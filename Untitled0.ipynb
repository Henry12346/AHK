{
  "nbformat": 4,
  "nbformat_minor": 0,
  "metadata": {
    "colab": {
      "name": "Untitled0.ipynb",
      "provenance": [],
      "collapsed_sections": [],
      "authorship_tag": "ABX9TyNL2KFvodWjCNuUbokd9y2u",
      "include_colab_link": true
    },
    "kernelspec": {
      "name": "python3",
      "display_name": "Python 3"
    },
    "language_info": {
      "name": "python"
    }
  },
  "cells": [
    {
      "cell_type": "markdown",
      "metadata": {
        "id": "view-in-github",
        "colab_type": "text"
      },
      "source": [
        "<a href=\"https://colab.research.google.com/github/Henry12346/AHK/blob/main/Untitled0.ipynb\" target=\"_parent\"><img src=\"https://colab.research.google.com/assets/colab-badge.svg\" alt=\"Open In Colab\"/></a>"
      ]
    },
    {
      "cell_type": "markdown",
      "metadata": {
        "id": "2Ogbqc2j0o1j"
      },
      "source": [
        ""
      ]
    },
    {
      "cell_type": "markdown",
      "metadata": {
        "id": "5bA5JY82qE06"
      },
      "source": [
        "#EJERCICIO 1"
      ]
    },
    {
      "cell_type": "code",
      "metadata": {
        "id": "zaj9pLcC0op2",
        "colab": {
          "base_uri": "https://localhost:8080/"
        },
        "outputId": "21e33614-de7d-403b-fe83-ac5318a35df3"
      },
      "source": [
        "%%writefile ejercicio_1.cpp\n",
        "#include <iostream>\n",
        "using namespace std;\n",
        "void main()\n",
        "{\n",
        " cout << \"Hola mundo\" << endl;\n",
        " system(\"pause\");\n",
        "}\n"
      ],
      "execution_count": 12,
      "outputs": [
        {
          "output_type": "stream",
          "text": [
            "Overwriting ejercicio_1.cpp\n"
          ],
          "name": "stdout"
        }
      ]
    },
    {
      "cell_type": "code",
      "metadata": {
        "id": "A1eYLsEdpJIa"
      },
      "source": [
        ""
      ],
      "execution_count": null,
      "outputs": []
    }
  ]
}